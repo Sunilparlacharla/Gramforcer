{
  "nbformat": 4,
  "nbformat_minor": 0,
  "metadata": {
    "colab": {
      "name": "Gramformer and Gardio",
      "provenance": [],
      "authorship_tag": "ABX9TyO3/e47R3cJWVu9FebC6Snk",
      "include_colab_link": true
    },
    "kernelspec": {
      "name": "python3",
      "display_name": "Python 3"
    },
    "language_info": {
      "name": "python"
    }
  },
  "cells": [
    {
      "cell_type": "markdown",
      "metadata": {
        "id": "view-in-github",
        "colab_type": "text"
      },
      "source": [
        "<a href=\"https://colab.research.google.com/github/Sunilparlacharla/Gramforcer/blob/main/Gramformer_and_Gardio.ipynb\" target=\"_parent\"><img src=\"https://colab.research.google.com/assets/colab-badge.svg\" alt=\"Open In Colab\"/></a>"
      ]
    },
    {
      "cell_type": "code",
      "execution_count": null,
      "metadata": {
        "id": "KMRboS8HNJE_"
      },
      "outputs": [],
      "source": [
        "!pip install -U git+https://github.com/PrithivirajDamodaran/Gramformer.git"
      ]
    },
    {
      "cell_type": "code",
      "source": [
        "!pip install torch==1.8.1+cu111 torchvision==0.9.1+cu111 torchaudio===0.8.1 -f https://download.pytorch.org/whl/lts/1.8/torch_lts.html"
      ],
      "metadata": {
        "id": "ljfJBSZcNTW7"
      },
      "execution_count": null,
      "outputs": []
    },
    {
      "cell_type": "code",
      "source": [
        "from gramformer import Gramformer"
      ],
      "metadata": {
        "id": "okwUUCDCNd_S"
      },
      "execution_count": 3,
      "outputs": []
    },
    {
      "cell_type": "code",
      "source": [
        "import torch"
      ],
      "metadata": {
        "id": "zhqM5nQXNwXi"
      },
      "execution_count": 4,
      "outputs": []
    },
    {
      "cell_type": "code",
      "source": [
        "gf = Gramformer(models = 1, use_gpu=False) # 1=corrector, 2=detector"
      ],
      "metadata": {
        "colab": {
          "base_uri": "https://localhost:8080/"
        },
        "id": "uo_vudElOUuq",
        "outputId": "4a071418-a157-4933-8500-d8073e6c6bf1"
      },
      "execution_count": 58,
      "outputs": [
        {
          "output_type": "stream",
          "name": "stdout",
          "text": [
            "[Gramformer] Grammar error correct/highlight model loaded..\n"
          ]
        }
      ]
    },
    {
      "cell_type": "code",
      "source": [
        "gf.correct('I am Sunil Parlacharla, a student at Ernst Abbe Hochschule Jena', \n",
        "                'and Iam writing to express my strong desire to participate in this \"Evaluation of an innovative human-machine interface in the driving simulator\"'\n",
        "    'I am proficient in my programming skills with Python, MATLAB and have knowledge of data processing and statistical analysis to accomplish the task,' \n",
        "    'and I am writing to see if it is possible for me to do my internship and thesis on this topic simultaneously, which I am really curious about and'\n",
        "    'I would like to work with you and further broaden my knowledge in the domain and will work without any benefits hoping to get a response from you') "
      ],
      "metadata": {
        "colab": {
          "base_uri": "https://localhost:8080/"
        },
        "id": "xUY4FqVxO3bG",
        "outputId": "039f95fd-dd13-4f6f-9955-223f4407ba12"
      },
      "execution_count": 68,
      "outputs": [
        {
          "output_type": "execute_result",
          "data": {
            "text/plain": [
              "{'I am Sunil Parlacharla, a student at Ernst Abbe Hochschule Jena and I am writing to express my strong desire to participate in this \"Evaluation of an innovative human-machine interface in the driving simulator\". I am proficient in my programming skills with Python, MATLAB'}"
            ]
          },
          "metadata": {},
          "execution_count": 68
        }
      ]
    },
    {
      "cell_type": "code",
      "source": [
        "sentences = [\n",
        "             'I am Sunil Parlacharla, a student at Ernst Abbe Hochschule Jena', \n",
        "              'and Iam writing to express my strong desire to participate in this Evaluation of an innovative human-machine interface in the driving simulator',\n",
        "            'I am proficient in my programming skills with Python, MATLAB and have knowledge of data processing and statistical analysis to accomplish the task,', \n",
        "    'and I am writing to see if it is possible for me to do my internship and thesis on this topic simultaneously, which I am really curious about and',\n",
        "    'I would like to work with you and further broaden my knowledge in the domain and will work without any benefits hoping to get a response from you'\n",
        "   \n",
        "]"
      ],
      "metadata": {
        "id": "i1KpUsDLO-Nn"
      },
      "execution_count": 76,
      "outputs": []
    },
    {
      "cell_type": "code",
      "source": [
        "for sentence in sentences:\n",
        "    res = gf.correct(sentence)\n",
        "    print(res)\n"
      ],
      "metadata": {
        "colab": {
          "base_uri": "https://localhost:8080/"
        },
        "id": "HP62uFhnPAiY",
        "outputId": "a9aedb64-a881-4ec1-b645-f08552dc7b23"
      },
      "execution_count": 79,
      "outputs": [
        {
          "output_type": "stream",
          "name": "stdout",
          "text": [
            "{'I am Sunil Parlacharla, a student at Ernst Abbe Hochschule Jena.'}\n",
            "{'and Iam writing to express my strong desire to participate in this evaluation of an innovative human-machine interface in the driving simulator'}\n",
            "{'I am proficient in my programming skills with Python, MATLAB and have knowledge of data processing and statistical analysis to accomplish the task.'}\n",
            "{'and I am writing to see if it is possible for me to do my internship and thesis on this topic simultaneously, which I am really curious about.'}\n",
            "{'I would like to work with you and further broaden my knowledge in the domain and would work without any benefits, hoping to get a response from you'}\n"
          ]
        }
      ]
    },
    {
      "cell_type": "code",
      "source": [
        "gf.correct(' My name is Sunil Parlcharala. I am writing to express my strong interest in programming so that I am starting my internship under your guidance; about my experience, I am very good at programming in python and MATLAB so that I can work under your guidance ')"
      ],
      "metadata": {
        "colab": {
          "base_uri": "https://localhost:8080/"
        },
        "id": "-UCyjjqkTUwR",
        "outputId": "f5453278-f35a-4a49-8517-4fb94e662e61"
      },
      "execution_count": 89,
      "outputs": [
        {
          "output_type": "execute_result",
          "data": {
            "text/plain": [
              "{'My name is Sunil Parlcharala. I am writing to express my strong interest in programming so that I am starting my internship under your guidance. according to my experience, I am very good at programming in Python and MATLAB so that I can work under your guidance in NET5.'}"
            ]
          },
          "metadata": {},
          "execution_count": 89
        }
      ]
    },
    {
      "cell_type": "code",
      "source": [
        "!pip install gradio"
      ],
      "metadata": {
        "id": "XRakILD7adtF"
      },
      "execution_count": null,
      "outputs": []
    },
    {
      "cell_type": "code",
      "source": [
        "import gradio as gr"
      ],
      "metadata": {
        "id": "vUgxrBAhaik5"
      },
      "execution_count": 91,
      "outputs": []
    },
    {
      "cell_type": "code",
      "source": [
        "def correct(sentence):\n",
        "    res = gf.correct(sentence) # Gramformer correct\n",
        "    return list(res)[0] # Return first value in res array"
      ],
      "metadata": {
        "id": "COgFBjQoan-L"
      },
      "execution_count": 100,
      "outputs": []
    },
    {
      "cell_type": "code",
      "source": [
        "app_inputs = gr.inputs.Textbox(lines=2, placeholder=\"Enter sentence here...\")"
      ],
      "metadata": {
        "id": "LakJ6VaFaqxR"
      },
      "execution_count": 101,
      "outputs": []
    },
    {
      "cell_type": "code",
      "source": [
        "interface = gr.Interface(fn=correct, \n",
        "                        inputs=app_inputs,\n",
        "                         outputs='text', \n",
        "                        title='Sup, I\\'m Gramformer')"
      ],
      "metadata": {
        "id": "7qCzsePFatKd"
      },
      "execution_count": 102,
      "outputs": []
    },
    {
      "cell_type": "code",
      "source": [
        "interface.launch()"
      ],
      "metadata": {
        "colab": {
          "base_uri": "https://localhost:8080/",
          "height": 643
        },
        "id": "mR79F4zhatOh",
        "outputId": "adebcfe2-3d9e-4e81-d2f3-be77e407acaf"
      },
      "execution_count": 103,
      "outputs": [
        {
          "output_type": "stream",
          "name": "stdout",
          "text": [
            "Colab notebook detected. To show errors in colab notebook, set `debug=True` in `launch()`\n",
            "Running on public URL: https://36206.gradio.app\n",
            "\n",
            "This share link expires in 72 hours. For free permanent hosting, check out Spaces (https://huggingface.co/spaces)\n"
          ]
        },
        {
          "output_type": "display_data",
          "data": {
            "text/plain": [
              "<IPython.lib.display.IFrame at 0x7fce21580a90>"
            ],
            "text/html": [
              "\n",
              "        <iframe\n",
              "            width=\"900\"\n",
              "            height=\"500\"\n",
              "            src=\"https://36206.gradio.app\"\n",
              "            frameborder=\"0\"\n",
              "            allowfullscreen\n",
              "        ></iframe>\n",
              "        "
            ]
          },
          "metadata": {}
        },
        {
          "output_type": "execute_result",
          "data": {
            "text/plain": [
              "(<fastapi.applications.FastAPI at 0x7fce20880050>,\n",
              " 'http://127.0.0.1:7862/',\n",
              " 'https://36206.gradio.app')"
            ]
          },
          "metadata": {},
          "execution_count": 103
        }
      ]
    }
  ]
}